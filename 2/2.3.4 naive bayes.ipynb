{
 "cells": [
  {
   "cell_type": "markdown",
   "metadata": {},
   "source": [
    "# 2.3.4 ナイーブベイズクラス分類器\n",
    "訓練が線形モデルよりもさらに高速  \n",
    "しかし汎化性能は LogisticRegrerssion/LinearSVCより僅かに劣る  \n",
    "\n",
    "scikit-learnには3種のナイーブベイズクラス分類器が実装されている\n",
    "1. GaussianNB : 任意の連続値データを仮定している\n",
    "1. BernoulliNB : 2値データを仮定している\n",
    "1. MultinomialNB : カウントデータを仮定している  \n",
    "    ※カウントデータ : 文中に出てくる単語の出現数など"
   ]
  },
  {
   "cell_type": "code",
   "execution_count": 1,
   "metadata": {
    "collapsed": true
   },
   "outputs": [],
   "source": [
    "import numpy as np\n",
    "import matplotlib.pyplot as plt\n",
    "import pandas as pd\n",
    "import mglearn\n",
    "from IPython.display import display\n",
    "from sklearn.model_selection import train_test_split\n",
    "%matplotlib notebook\n",
    "%matplotlib inline"
   ]
  },
  {
   "cell_type": "code",
   "execution_count": 2,
   "metadata": {
    "collapsed": true
   },
   "outputs": [],
   "source": [
    "# 5つの2値特徴量を持つ4つのデータポイント\n",
    "X = np.array([[0, 1, 0, 1],\n",
    "                        [1, 0, 1, 1],\n",
    "                        [0, 0, 0, 1],\n",
    "                        [1, 0, 1, 0]])\n",
    "y = np.array([0, 1, 0, 1])"
   ]
  },
  {
   "cell_type": "code",
   "execution_count": null,
   "metadata": {
    "collapsed": true
   },
   "outputs": [],
   "source": []
  }
 ],
 "metadata": {
  "kernelspec": {
   "display_name": "Python 3",
   "language": "python",
   "name": "python3"
  },
  "language_info": {
   "codemirror_mode": {
    "name": "ipython",
    "version": 3
   },
   "file_extension": ".py",
   "mimetype": "text/x-python",
   "name": "python",
   "nbconvert_exporter": "python",
   "pygments_lexer": "ipython3",
   "version": "3.6.1"
  }
 },
 "nbformat": 4,
 "nbformat_minor": 2
}
